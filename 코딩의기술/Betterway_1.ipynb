{
 "cells": [
  {
   "cell_type": "markdown",
   "id": "3ea975eb-cc59-47c8-9d9c-4ef06e647cfa",
   "metadata": {},
   "source": [
    "BETTER WAY 1 사용 중인 파이썬의 버전을 알아두라"
   ]
  },
  {
   "cell_type": "code",
   "execution_count": 3,
   "id": "64235eda-a40c-47e9-aa98-df68831f81ac",
   "metadata": {},
   "outputs": [],
   "source": [
    "# $ python --version"
   ]
  },
  {
   "cell_type": "code",
   "execution_count": 2,
   "id": "bd204a9d-89d5-46d0-b83a-c5e8d9d44488",
   "metadata": {},
   "outputs": [
    {
     "name": "stdout",
     "output_type": "stream",
     "text": [
      "sys.version_info(major=3, minor=8, micro=12, releaselevel='final', serial=0)\n",
      "3.8.12 | packaged by conda-forge | (default, Oct 12 2021, 21:19:05) [MSC v.1916 64 bit (AMD64)]\n"
     ]
    }
   ],
   "source": [
    "import sys\n",
    "print(sys.version_info)\n",
    "print(sys.version)"
   ]
  },
  {
   "cell_type": "code",
   "execution_count": null,
   "id": "afbb4473-ff0a-4683-a5d0-ae876cfd15fa",
   "metadata": {},
   "outputs": [],
   "source": []
  },
  {
   "cell_type": "code",
   "execution_count": null,
   "id": "ab3b0694-7ada-4354-99e5-7f1953f349af",
   "metadata": {},
   "outputs": [],
   "source": []
  }
 ],
 "metadata": {
  "kernelspec": {
   "display_name": "Python 3 (ipykernel)",
   "language": "python",
   "name": "python3"
  },
  "language_info": {
   "codemirror_mode": {
    "name": "ipython",
    "version": 3
   },
   "file_extension": ".py",
   "mimetype": "text/x-python",
   "name": "python",
   "nbconvert_exporter": "python",
   "pygments_lexer": "ipython3",
   "version": "3.8.12"
  }
 },
 "nbformat": 4,
 "nbformat_minor": 5
}
