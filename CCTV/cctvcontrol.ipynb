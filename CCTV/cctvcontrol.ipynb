{
 "cells": [
  {
   "cell_type": "code",
   "execution_count": 12,
   "id": "acd9a632-a381-462b-acdd-7e3894325ccd",
   "metadata": {},
   "outputs": [],
   "source": [
    "import requests"
   ]
  },
  {
   "cell_type": "code",
   "execution_count": null,
   "id": "cc4059be-6e13-4b4e-87f8-718ca8a9181d",
   "metadata": {},
   "outputs": [],
   "source": [
    "import webbrowser"
   ]
  },
  {
   "cell_type": "code",
   "execution_count": 1,
   "id": "cd87fbf5-8f06-415e-8ca4-db7abf7f70c9",
   "metadata": {},
   "outputs": [],
   "source": [
    "import requests"
   ]
  },
  {
   "cell_type": "code",
   "execution_count": 13,
   "id": "f7c0fe72-7bab-4745-8bee-71d02cc62185",
   "metadata": {},
   "outputs": [],
   "source": [
    "url = 'http://ipaddress/ptz/11?action='"
   ]
  },
  {
   "cell_type": "code",
   "execution_count": 14,
   "id": "6ddec7a9-75ad-4cba-bd92-b293cf9b9916",
   "metadata": {},
   "outputs": [],
   "source": [
    "left = 'pan-left'"
   ]
  },
  {
   "cell_type": "code",
   "execution_count": 15,
   "id": "fe6f47fa-ea9c-441b-a670-fa84d215ec95",
   "metadata": {},
   "outputs": [],
   "source": [
    "right = 'pan-right'"
   ]
  },
  {
   "cell_type": "code",
   "execution_count": 16,
   "id": "dd9a7547-d56e-47e6-95a1-93c48061b20b",
   "metadata": {},
   "outputs": [],
   "source": [
    "goleft = url + left"
   ]
  },
  {
   "cell_type": "code",
   "execution_count": 17,
   "id": "0437d839-12fa-4a7d-8310-3d12b7cf79a0",
   "metadata": {},
   "outputs": [],
   "source": [
    "goright = url + right"
   ]
  },
  {
   "cell_type": "code",
   "execution_count": null,
   "id": "75d923c5-260b-4db7-a102-32d062dd4131",
   "metadata": {},
   "outputs": [],
   "source": [
    "goleft"
   ]
  },
  {
   "cell_type": "code",
   "execution_count": 136,
   "id": "c857362b-fae1-4c85-bf6b-2df84f7aa19d",
   "metadata": {},
   "outputs": [
    {
     "data": {
      "text/plain": [
       "True"
      ]
     },
     "execution_count": 136,
     "metadata": {},
     "output_type": "execute_result"
    }
   ],
   "source": [
    "webbrowser.open(go)"
   ]
  },
  {
   "cell_type": "code",
   "execution_count": 19,
   "id": "388e6612-c099-43e3-af2b-270fc87b8cbd",
   "metadata": {},
   "outputs": [],
   "source": [
    "session = requests.Session()\n",
    "session.auth = (\"username\",\"password\")"
   ]
  },
  {
   "cell_type": "code",
   "execution_count": 20,
   "id": "46ae856f-8da9-43e7-953e-7dbda28c8757",
   "metadata": {},
   "outputs": [
    {
     "data": {
      "text/plain": [
       "<Response [200]>"
      ]
     },
     "execution_count": 20,
     "metadata": {},
     "output_type": "execute_result"
    }
   ],
   "source": [
    "session.get(goright)"
   ]
  },
  {
   "cell_type": "code",
   "execution_count": 21,
   "id": "398dfdcd-c68f-496e-b61e-6f884ac7dae4",
   "metadata": {},
   "outputs": [
    {
     "data": {
      "text/plain": [
       "<Response [200]>"
      ]
     },
     "execution_count": 21,
     "metadata": {},
     "output_type": "execute_result"
    }
   ],
   "source": [
    "session.get(goleft)"
   ]
  },
  {
   "cell_type": "code",
   "execution_count": 23,
   "id": "a6ca2884-d74e-4758-bc05-abfa90d137c5",
   "metadata": {},
   "outputs": [],
   "source": [
    "import cv2\n",
    "\n",
    "cap=cv2.VideoCapture('http://ipaddress/live/video12.m3u8?user=&password=')\n",
    "\n",
    "while True:\n",
    "\n",
    "    #print('About to start the Read command')\n",
    "    ret, frame = cap.read()\n",
    "    #print('About to show frame of Video.')\n",
    "    cv2.imshow(\"Capturing\",frame)\n",
    "    #print('Running..')\n",
    "\n",
    "    if cv2.waitKey(1) & 0xFF == ord('q'): session.get(goleft)\n",
    "        \n",
    "    if cv2.waitKey(1) & 0xFF == ord('w'): session.get(goright)\n",
    "        \n",
    "    if cv2.waitKey(1) & 0xFF == ord('e'):    \n",
    "        break\n",
    "    # ptz/0?action=pan-left&speed=50 HTTP/1.1\n",
    "\n",
    "cap.release()\n",
    "cv2.destroyAllWindows()"
   ]
  },
  {
   "cell_type": "code",
   "execution_count": 22,
   "id": "bfced7c9-0e13-4b4a-ba20-b1933fb3a89f",
   "metadata": {},
   "outputs": [],
   "source": [
    "import cv2\n",
    "\n",
    "# cv2.waitKey(delay=None) -> retval\n",
    "\n",
    "while True:\n",
    "    if ord('q'): session.get(goleft)\n",
    "        \n",
    "    if ord('w'): session.get(goright)\n",
    "        \n",
    "    if ord('e'):    \n",
    "        break\n",
    "    # ptz/0?action=pan-left&speed=50 HTTP/1.1\n",
    "\n",
    "# cap.release()\n",
    "# cv2.destroyAllWindows()"
   ]
  },
  {
   "cell_type": "code",
   "execution_count": null,
   "id": "145c3006-5e9e-45b5-9359-93990e538dc1",
   "metadata": {},
   "outputs": [],
   "source": [
    "from time import sleep\n",
    "\n",
    "from onvif import ONVIFCamera\n",
    "\n",
    "XMAX = 1\n",
    "XMIN = -1\n",
    "YMAX = 1\n",
    "YMIN = -1\n",
    "\n",
    "def perform_move(ptz, request, timeout):\n",
    "    # Start continuous move\n",
    "    ptz.ContinuousMove(request)\n",
    "    # Wait a certain time\n",
    "    sleep(timeout)\n",
    "    # Stop continuous move\n",
    "    ptz.Stop({'ProfileToken': request.ProfileToken})\n",
    "\n",
    "def move_up(ptz, request, timeout=1):\n",
    "    print ('move up...')\n",
    "    request.Velocity.PanTilt._x = 0\n",
    "    request.Velocity.PanTilt._y = YMAX\n",
    "    perform_move(ptz, request, timeout)\n",
    "\n",
    "def move_down(ptz, request, timeout=1):\n",
    "    print ('move down...')\n",
    "    request.Velocity.PanTilt._x = 0\n",
    "    request.Velocity.PanTilt._y = YMIN\n",
    "    perform_move(ptz, request, timeout)\n",
    "\n",
    "def move_right(ptz, request, timeout=1):\n",
    "    print ('move right...')\n",
    "    request.Velocity.PanTilt._x = XMAX\n",
    "    request.Velocity.PanTilt._y = 0\n",
    "    perform_move(ptz, request, timeout)\n",
    "\n",
    "def move_left(ptz, request, timeout=1):\n",
    "    print ('move left...')\n",
    "    request.Velocity.PanTilt._x = XMIN\n",
    "    request.Velocity.PanTilt._y = 0\n",
    "    perform_move(ptz, request, timeout)\n",
    "\n",
    "def continuous_move():\n",
    "    mycam = ONVIFCamera(url, 80, 'username', 'password')\n",
    "    # Create media service object\n",
    "    media = mycam.create_media_service()\n",
    "    # Create ptz service object\n",
    "    ptz = mycam.create_ptz_service()\n",
    "\n",
    "    # Get target profile\n",
    "    media_profile = media.GetProfiles()[0];\n",
    "\n",
    "    # Get PTZ configuration options for getting continuous move range\n",
    "    request = ptz.create_type('GetConfigurationOptions')\n",
    "    request.ConfigurationToken = media_profile.PTZConfiguration._token\n",
    "    ptz_configuration_options = ptz.GetConfigurationOptions(request)\n",
    "\n",
    "    request = ptz.create_type('ContinuousMove')\n",
    "    request.ProfileToken = media_profile._token\n",
    "\n",
    "    ptz.Stop({'ProfileToken': media_profile._token})\n",
    "\n",
    "    # Get range of pan and tilt\n",
    "    # NOTE: X and Y are velocity vector\n",
    "    global XMAX, XMIN, YMAX, YMIN\n",
    "    XMAX = ptz_configuration_options.Spaces.ContinuousPanTiltVelocitySpace[0].XRange.Max\n",
    "    XMIN = ptz_configuration_options.Spaces.ContinuousPanTiltVelocitySpace[0].XRange.Min\n",
    "    YMAX = ptz_configuration_options.Spaces.ContinuousPanTiltVelocitySpace[0].YRange.Max\n",
    "    YMIN = ptz_configuration_options.Spaces.ContinuousPanTiltVelocitySpace[0].YRange.Min\n",
    "\n",
    "    # move right\n",
    "    move_right(ptz, request)\n",
    "\n",
    "    # move left\n",
    "    move_left(ptz, request)\n",
    "\n",
    "    # Move up\n",
    "    move_up(ptz, request)\n",
    "\n",
    "    # move down\n",
    "    move_down(ptz, request)\n",
    "\n",
    "if __name__ == '__main__':\n",
    "    continuous_move()"
   ]
  },
  {
   "cell_type": "code",
   "execution_count": null,
   "id": "bfd0a885-7c0e-4a9a-a8ab-5d5b49d6ac4b",
   "metadata": {},
   "outputs": [],
   "source": []
  }
 ],
 "metadata": {
  "kernelspec": {
   "display_name": "Python 3 (ipykernel)",
   "language": "python",
   "name": "python3"
  },
  "language_info": {
   "codemirror_mode": {
    "name": "ipython",
    "version": 3
   },
   "file_extension": ".py",
   "mimetype": "text/x-python",
   "name": "python",
   "nbconvert_exporter": "python",
   "pygments_lexer": "ipython3",
   "version": "3.8.13"
  }
 },
 "nbformat": 4,
 "nbformat_minor": 5
}
