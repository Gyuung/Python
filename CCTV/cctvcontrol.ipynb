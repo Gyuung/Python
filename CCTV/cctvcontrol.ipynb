{
 "cells": [
  {
   "cell_type": "code",
   "execution_count": 1,
   "id": "acd9a632-a381-462b-acdd-7e3894325ccd",
   "metadata": {},
   "outputs": [],
   "source": [
    "import requests\n",
    "# import webbrowser\n",
    "# webbrowser.open(go)"
   ]
  },
  {
   "cell_type": "code",
   "execution_count": 2,
   "id": "de1dde5e-600c-46a5-a40b-3fae6084e6c3",
   "metadata": {},
   "outputs": [],
   "source": [
    "# 출력값 확인\n",
    "# res = requests.get('http://(ipaddress)/api/cameras?user=(username)&password=(password)')\n",
    "# res\n",
    "# res.content\n",
    "# res.text"
   ]
  },
  {
   "cell_type": "code",
   "execution_count": 1,
   "id": "238eb797-8c37-4039-a305-8fa9be356e7d",
   "metadata": {},
   "outputs": [
    {
     "name": "stdout",
     "output_type": "stream",
     "text": [
      "http://(ipaddress)/ptz/11?action=pan-left\n",
      "http://(ipaddress)/ptz/11?action=pan-right\n"
     ]
    }
   ],
   "source": [
    "url = 'http://(ipaddress)/ptz/11?action='\n",
    "left = 'pan-left'\n",
    "right = 'pan-right'\n",
    "goleft = url + left\n",
    "goright = url + right\n",
    "print(goleft)\n",
    "print(goright)"
   ]
  },
  {
   "cell_type": "code",
   "execution_count": 4,
   "id": "388e6612-c099-43e3-af2b-270fc87b8cbd",
   "metadata": {},
   "outputs": [],
   "source": [
    "# HTTP Basic 인증\n",
    "session = requests.Session()\n",
    "session.auth = (\"(username)\",\"(password)\")"
   ]
  },
  {
   "cell_type": "code",
   "execution_count": 5,
   "id": "46ae856f-8da9-43e7-953e-7dbda28c8757",
   "metadata": {},
   "outputs": [
    {
     "data": {
      "text/plain": [
       "<Response [200]>"
      ]
     },
     "execution_count": 5,
     "metadata": {},
     "output_type": "execute_result"
    }
   ],
   "source": [
    "# 오른쪽 움직이기\n",
    "session.get(goright)"
   ]
  },
  {
   "cell_type": "code",
   "execution_count": 7,
   "id": "398dfdcd-c68f-496e-b61e-6f884ac7dae4",
   "metadata": {},
   "outputs": [
    {
     "data": {
      "text/plain": [
       "<Response [200]>"
      ]
     },
     "execution_count": 7,
     "metadata": {},
     "output_type": "execute_result"
    }
   ],
   "source": [
    "# 왼쪽 움직이기\n",
    "session.get(goleft)"
   ]
  },
  {
   "cell_type": "code",
   "execution_count": 20,
   "id": "a6ca2884-d74e-4758-bc05-abfa90d137c5",
   "metadata": {},
   "outputs": [
    {
     "ename": "KeyboardInterrupt",
     "evalue": "",
     "output_type": "error",
     "traceback": [
      "\u001b[1;31m---------------------------------------------------------------------------\u001b[0m",
      "\u001b[1;31mKeyboardInterrupt\u001b[0m                         Traceback (most recent call last)",
      "Input \u001b[1;32mIn [20]\u001b[0m, in \u001b[0;36m<cell line: 8>\u001b[1;34m()\u001b[0m\n\u001b[0;32m     10\u001b[0m cv2\u001b[38;5;241m.\u001b[39mimshow(\u001b[38;5;124m\"\u001b[39m\u001b[38;5;124mCapturing\u001b[39m\u001b[38;5;124m\"\u001b[39m,frame)\n\u001b[0;32m     11\u001b[0m \u001b[38;5;66;03m#print('Running..')\u001b[39;00m\n\u001b[1;32m---> 13\u001b[0m \u001b[38;5;28;01mif\u001b[39;00m cv2\u001b[38;5;241m.\u001b[39mwaitKey(\u001b[38;5;241m1\u001b[39m) \u001b[38;5;241m&\u001b[39m \u001b[38;5;241m0xFF\u001b[39m \u001b[38;5;241m==\u001b[39m \u001b[38;5;28mord\u001b[39m(\u001b[38;5;124m'\u001b[39m\u001b[38;5;124mq\u001b[39m\u001b[38;5;124m'\u001b[39m): session\u001b[38;5;241m.\u001b[39mget(goleft)\n\u001b[0;32m     15\u001b[0m \u001b[38;5;28;01mif\u001b[39;00m cv2\u001b[38;5;241m.\u001b[39mwaitKey(\u001b[38;5;241m1\u001b[39m) \u001b[38;5;241m&\u001b[39m \u001b[38;5;241m0xFF\u001b[39m \u001b[38;5;241m==\u001b[39m \u001b[38;5;28mord\u001b[39m(\u001b[38;5;124m'\u001b[39m\u001b[38;5;124mw\u001b[39m\u001b[38;5;124m'\u001b[39m): session\u001b[38;5;241m.\u001b[39mget(goright)\n\u001b[0;32m     17\u001b[0m \u001b[38;5;28;01mif\u001b[39;00m cv2\u001b[38;5;241m.\u001b[39mwaitKey(\u001b[38;5;241m1\u001b[39m) \u001b[38;5;241m&\u001b[39m \u001b[38;5;241m0xFF\u001b[39m \u001b[38;5;241m==\u001b[39m \u001b[38;5;28mord\u001b[39m(\u001b[38;5;124m'\u001b[39m\u001b[38;5;124me\u001b[39m\u001b[38;5;124m'\u001b[39m):    \n",
      "\u001b[1;31mKeyboardInterrupt\u001b[0m: "
     ]
    }
   ],
   "source": [
    "import cv2\n",
    "\n",
    "cap=cv2.VideoCapture('http://(ipaddress)/live/video12.m3u8?user=(username)&password=(password)')\n",
    "\n",
    "while True:\n",
    "\n",
    "    #print('About to start the Read command')\n",
    "    ret, frame = cap.read()\n",
    "    #print('About to show frame of Video.')\n",
    "    cv2.imshow(\"Capturing\",frame)\n",
    "    #print('Running..')\n",
    "\n",
    "    if cv2.waitKey(1) & 0xFF == ord('q'): session.get(goleft)\n",
    "        \n",
    "    if cv2.waitKey(1) & 0xFF == ord('w'): session.get(goright)\n",
    "        \n",
    "    if cv2.waitKey(1) & 0xFF == ord('e'):    \n",
    "        break\n",
    "    # ptz/0?action=pan-left&speed=50 HTTP/1.1\n",
    "\n",
    "cap.release()\n",
    "cv2.destroyAllWindows()"
   ]
  },
  {
   "cell_type": "code",
   "execution_count": 19,
   "id": "bfced7c9-0e13-4b4a-ba20-b1933fb3a89f",
   "metadata": {},
   "outputs": [],
   "source": [
    "import cv2\n",
    "\n",
    "# cv2.waitKey(delay=None) -> retval\n",
    "\n",
    "while True:\n",
    "    if ord('q'): session.get(goleft)\n",
    "        \n",
    "    if ord('w'): session.get(goright)\n",
    "        \n",
    "    if ord('e'):    \n",
    "        break\n",
    "    # ptz/0?action=pan-left&speed=50 HTTP/1.1\n",
    "\n",
    "# cap.release()\n",
    "# cv2.destroyAllWindows()"
   ]
  },
  {
   "cell_type": "code",
   "execution_count": 8,
   "id": "145c3006-5e9e-45b5-9359-93990e538dc1",
   "metadata": {},
   "outputs": [],
   "source": [
    "# from time import sleep\n",
    "\n",
    "# from onvif import ONVIFCamera\n",
    "\n",
    "# XMAX = 1\n",
    "# XMIN = -1\n",
    "# YMAX = 1\n",
    "# YMIN = -1\n",
    "\n",
    "# def perform_move(ptz, request, timeout):\n",
    "#     # Start continuous move\n",
    "#     ptz.ContinuousMove(request)\n",
    "#     # Wait a certain time\n",
    "#     sleep(timeout)\n",
    "#     # Stop continuous move\n",
    "#     ptz.Stop({'ProfileToken': request.ProfileToken})\n",
    "\n",
    "# def move_up(ptz, request, timeout=1):\n",
    "#     print ('move up...')\n",
    "#     request.Velocity.PanTilt._x = 0\n",
    "#     request.Velocity.PanTilt._y = YMAX\n",
    "#     perform_move(ptz, request, timeout)\n",
    "\n",
    "# def move_down(ptz, request, timeout=1):\n",
    "#     print ('move down...')\n",
    "#     request.Velocity.PanTilt._x = 0\n",
    "#     request.Velocity.PanTilt._y = YMIN\n",
    "#     perform_move(ptz, request, timeout)\n",
    "\n",
    "# def move_right(ptz, request, timeout=1):\n",
    "#     print ('move right...')\n",
    "#     request.Velocity.PanTilt._x = XMAX\n",
    "#     request.Velocity.PanTilt._y = 0\n",
    "#     perform_move(ptz, request, timeout)\n",
    "\n",
    "# def move_left(ptz, request, timeout=1):\n",
    "#     print ('move left...')\n",
    "#     request.Velocity.PanTilt._x = XMIN\n",
    "#     request.Velocity.PanTilt._y = 0\n",
    "#     perform_move(ptz, request, timeout)\n",
    "\n",
    "# def continuous_move():\n",
    "#     mycam = ONVIFCamera(url, 80, '(username)', '(password)')\n",
    "#     # Create media service object\n",
    "#     media = mycam.create_media_service()\n",
    "#     # Create ptz service object\n",
    "#     ptz = mycam.create_ptz_service()\n",
    "\n",
    "#     # Get target profile\n",
    "#     media_profile = media.GetProfiles()[0];\n",
    "\n",
    "#     # Get PTZ configuration options for getting continuous move range\n",
    "#     request = ptz.create_type('GetConfigurationOptions')\n",
    "#     request.ConfigurationToken = media_profile.PTZConfiguration._token\n",
    "#     ptz_configuration_options = ptz.GetConfigurationOptions(request)\n",
    "\n",
    "#     request = ptz.create_type('ContinuousMove')\n",
    "#     request.ProfileToken = media_profile._token\n",
    "\n",
    "#     ptz.Stop({'ProfileToken': media_profile._token})\n",
    "\n",
    "#     # Get range of pan and tilt\n",
    "#     # NOTE: X and Y are velocity vector\n",
    "#     global XMAX, XMIN, YMAX, YMIN\n",
    "#     XMAX = ptz_configuration_options.Spaces.ContinuousPanTiltVelocitySpace[0].XRange.Max\n",
    "#     XMIN = ptz_configuration_options.Spaces.ContinuousPanTiltVelocitySpace[0].XRange.Min\n",
    "#     YMAX = ptz_configuration_options.Spaces.ContinuousPanTiltVelocitySpace[0].YRange.Max\n",
    "#     YMIN = ptz_configuration_options.Spaces.ContinuousPanTiltVelocitySpace[0].YRange.Min\n",
    "\n",
    "#     # move right\n",
    "#     move_right(ptz, request)\n",
    "\n",
    "#     # move left\n",
    "#     move_left(ptz, request)\n",
    "\n",
    "#     # Move up\n",
    "#     move_up(ptz, request)\n",
    "\n",
    "#     # move down\n",
    "#     move_down(ptz, request)\n",
    "\n",
    "# if __name__ == '__main__':\n",
    "#     continuous_move()"
   ]
  },
  {
   "cell_type": "code",
   "execution_count": 10,
   "id": "bfd0a885-7c0e-4a9a-a8ab-5d5b49d6ac4b",
   "metadata": {},
   "outputs": [],
   "source": [
    "import sys\n",
    "import cv2"
   ]
  },
  {
   "cell_type": "code",
   "execution_count": 11,
   "id": "d077e9e1-2140-45ca-b2c2-c8ea3156539a",
   "metadata": {},
   "outputs": [],
   "source": [
    "CAM_ID = 0"
   ]
  },
  {
   "cell_type": "code",
   "execution_count": 12,
   "id": "8781fa98-1852-4143-b37a-ae8da1d44e07",
   "metadata": {},
   "outputs": [],
   "source": [
    "TRACKING_STATE_CHECK = 0"
   ]
  },
  {
   "cell_type": "code",
   "execution_count": 15,
   "id": "6947de07-d772-4951-9bb2-8e56496d37e4",
   "metadata": {},
   "outputs": [],
   "source": [
    "TRACKING_STATE_INIT = 1"
   ]
  },
  {
   "cell_type": "code",
   "execution_count": 16,
   "id": "c6326142-686f-4f99-b671-669aab388f4c",
   "metadata": {},
   "outputs": [],
   "source": [
    "TRACKING_STATE_ON = 2"
   ]
  },
  {
   "cell_type": "code",
   "execution_count": 17,
   "id": "b7b7bae6-6af5-451f-9e42-48692d64e165",
   "metadata": {},
   "outputs": [],
   "source": [
    "(major_ver, minor_ver, subminor_ver) = (cv2.__version__).split('.')"
   ]
  },
  {
   "cell_type": "code",
   "execution_count": 19,
   "id": "94c8f494-bc3f-4e56-8c0c-7f093e0d04bb",
   "metadata": {},
   "outputs": [
    {
     "data": {
      "text/plain": [
       "'4.5.5'"
      ]
     },
     "execution_count": 19,
     "metadata": {},
     "output_type": "execute_result"
    }
   ],
   "source": [
    "(cv2.__version__)"
   ]
  },
  {
   "cell_type": "code",
   "execution_count": null,
   "id": "d725300b-75b9-48bc-a249-07fb6c093ad9",
   "metadata": {},
   "outputs": [],
   "source": [
    "if __name__ == '__main__' :\n",
    "    print((cv2."
   ]
  }
 ],
 "metadata": {
  "kernelspec": {
   "display_name": "Python 3 (ipykernel)",
   "language": "python",
   "name": "python3"
  },
  "language_info": {
   "codemirror_mode": {
    "name": "ipython",
    "version": 3
   },
   "file_extension": ".py",
   "mimetype": "text/x-python",
   "name": "python",
   "nbconvert_exporter": "python",
   "pygments_lexer": "ipython3",
   "version": "3.8.12"
  }
 },
 "nbformat": 4,
 "nbformat_minor": 5
}
