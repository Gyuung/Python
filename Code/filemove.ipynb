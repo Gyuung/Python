{
 "cells": [
  {
   "cell_type": "code",
   "execution_count": null,
   "id": "14dd190d-7604-4347-bc24-cf5c7992701f",
   "metadata": {},
   "outputs": [],
   "source": [
    "# import shutil\n",
    "# import os\n",
    " \n",
    "# file_source = 'Path/Of/Directory'\n",
    "# file_destination = 'Path/Of/Directory'\n",
    " \n",
    "# get_files = os.listdir(file_source)\n",
    " \n",
    "# for g in get_files:\n",
    "#     shutil.move(file_source + g, file_destination)"
   ]
  },
  {
   "cell_type": "code",
   "execution_count": 21,
   "id": "fe0c1b13-fddc-4ca7-9bb1-04b35225ff17",
   "metadata": {},
   "outputs": [],
   "source": [
    "import shutil\n",
    "import os\n",
    "from tqdm import tqdm\n",
    "import time"
   ]
  },
  {
   "cell_type": "code",
   "execution_count": 22,
   "id": "146aa6f8-0917-490d-9a6d-bf8ad2e70c99",
   "metadata": {},
   "outputs": [],
   "source": [
    "file_source = 'D://BCS/2_라벨데이터/BCS_9/'\n",
    "file_destination = 'C://Users/King/Desktop/NIA_BCS/2_라벨데이터/BCS_9/'"
   ]
  },
  {
   "cell_type": "code",
   "execution_count": 23,
   "id": "1cbcdb41-1b96-410e-bf98-a2b3e91436c0",
   "metadata": {},
   "outputs": [],
   "source": [
    "get_files = os.listdir(file_source)"
   ]
  },
  {
   "cell_type": "code",
   "execution_count": 24,
   "id": "a0b46ab4-10fb-4d3b-a605-3c451d7cc6aa",
   "metadata": {},
   "outputs": [
    {
     "data": {
      "text/plain": [
       "11882"
      ]
     },
     "execution_count": 24,
     "metadata": {},
     "output_type": "execute_result"
    }
   ],
   "source": [
    "len(get_files)"
   ]
  },
  {
   "cell_type": "code",
   "execution_count": null,
   "id": "234e85de-9749-429a-8f28-514bfbb28a0c",
   "metadata": {},
   "outputs": [
    {
     "name": "stderr",
     "output_type": "stream",
     "text": [
      " 43%|███████████████████████████████                                          | 5053/11882 [2:35:31<1:47:16,  1.06it/s]"
     ]
    }
   ],
   "source": [
    "for g in tqdm(get_files):\n",
    "    time.sleep(0.1)\n",
    "    try:\n",
    "        shutil.move(file_source + g, file_destination + g)\n",
    "    except:\n",
    "        print(g)"
   ]
  },
  {
   "cell_type": "code",
   "execution_count": 6,
   "id": "430d4a80-af50-4ce5-9f46-f3508a64db3c",
   "metadata": {},
   "outputs": [],
   "source": [
    "list1 = 'C://Users/King/Desktop/NIA_BCS/2_라벨데이터/BCS_8'"
   ]
  },
  {
   "cell_type": "code",
   "execution_count": 7,
   "id": "68844dc0-feea-4bb2-b3ae-e89115227dee",
   "metadata": {},
   "outputs": [],
   "source": [
    "list2 = 'D://BCS/2_라벨데이터/BCS_8'"
   ]
  },
  {
   "cell_type": "code",
   "execution_count": 8,
   "id": "9c49adc6-0964-40e9-ae0b-9851c8fbda9e",
   "metadata": {},
   "outputs": [],
   "source": [
    "listdir1 = os.listdir(list1)\n",
    "listdir2 = os.listdir(list2)"
   ]
  },
  {
   "cell_type": "code",
   "execution_count": 21,
   "id": "502654ae-688f-4068-8ed7-c51e076ed7c2",
   "metadata": {},
   "outputs": [
    {
     "name": "stdout",
     "output_type": "stream",
     "text": [
      "0515_20210824_640\n"
     ]
    }
   ],
   "source": [
    "for i in listdir1:\n",
    "    for j in listdir2:\n",
    "        if i == j:\n",
    "           print(i)"
   ]
  },
  {
   "cell_type": "code",
   "execution_count": null,
   "id": "8d6602ce-6a04-46fb-baa6-b56d65058da6",
   "metadata": {},
   "outputs": [],
   "source": []
  }
 ],
 "metadata": {
  "kernelspec": {
   "display_name": "Python 3 (ipykernel)",
   "language": "python",
   "name": "python3"
  },
  "language_info": {
   "codemirror_mode": {
    "name": "ipython",
    "version": 3
   },
   "file_extension": ".py",
   "mimetype": "text/x-python",
   "name": "python",
   "nbconvert_exporter": "python",
   "pygments_lexer": "ipython3",
   "version": "3.8.12"
  }
 },
 "nbformat": 4,
 "nbformat_minor": 5
}
