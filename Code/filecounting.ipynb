{
 "cells": [
  {
   "cell_type": "code",
   "execution_count": 1,
   "id": "851a2b19-9630-4edd-8643-856489d9f063",
   "metadata": {},
   "outputs": [],
   "source": [
    "import json"
   ]
  },
  {
   "cell_type": "code",
   "execution_count": 2,
   "id": "1ac5fa11-d8c1-44c7-b3eb-88da120e15fe",
   "metadata": {},
   "outputs": [],
   "source": [
    "with open ('0516_20211117_195_02_6_2D.json', \"r\", encoding=\"utf8\") as f:\n",
    "     contents = f.read() \n",
    "     data = json.loads(contents)"
   ]
  },
  {
   "cell_type": "code",
   "execution_count": null,
   "id": "a581b709-10a8-4010-9f9d-0b28bc3f4d44",
   "metadata": {},
   "outputs": [],
   "source": [
    "data"
   ]
  },
  {
   "cell_type": "code",
   "execution_count": 4,
   "id": "fe2d7f17-df07-4d8b-9787-7fd111fdeea4",
   "metadata": {},
   "outputs": [
    {
     "data": {
      "text/plain": [
       "153"
      ]
     },
     "execution_count": 4,
     "metadata": {},
     "output_type": "execute_result"
    }
   ],
   "source": [
    "len(data[\"annotations\"][\"shapes\"][0][\"points\"])"
   ]
  },
  {
   "cell_type": "code",
   "execution_count": 5,
   "id": "e0ea1ba2-f1f3-404f-9a8d-28156abc058a",
   "metadata": {},
   "outputs": [],
   "source": [
    "with open ('C://Users/King/Downloads/라벨링데이터0516_20211117_195/0516_20211117_195/전구/0516_20211117_195_02_6_2D.json', \"r\", encoding=\"utf8\") as f:\n",
    "     contents1 = f.read() \n",
    "     data1 = json.loads(contents)"
   ]
  },
  {
   "cell_type": "code",
   "execution_count": 6,
   "id": "4c81a4f1-a7d6-4065-a799-b2beafa89ecd",
   "metadata": {},
   "outputs": [
    {
     "data": {
      "text/plain": [
       "153"
      ]
     },
     "execution_count": 6,
     "metadata": {},
     "output_type": "execute_result"
    }
   ],
   "source": [
    "len(data1[\"annotations\"][\"shapes\"][0][\"points\"])"
   ]
  },
  {
   "cell_type": "code",
   "execution_count": 7,
   "id": "b714202d-cc16-4967-9fe8-4b11a1843ab9",
   "metadata": {},
   "outputs": [
    {
     "data": {
      "text/plain": [
       "True"
      ]
     },
     "execution_count": 7,
     "metadata": {},
     "output_type": "execute_result"
    }
   ],
   "source": [
    "data == data1"
   ]
  },
  {
   "cell_type": "code",
   "execution_count": 8,
   "id": "1473db12-cbc0-4822-b058-c378b7750d83",
   "metadata": {},
   "outputs": [
    {
     "data": {
      "text/plain": [
       "True"
      ]
     },
     "execution_count": 8,
     "metadata": {},
     "output_type": "execute_result"
    }
   ],
   "source": [
    "data[\"annotations\"][\"shapes\"][0][\"points\"] == data1[\"annotations\"][\"shapes\"][0][\"points\"]"
   ]
  },
  {
   "cell_type": "code",
   "execution_count": 9,
   "id": "0b5a3924-2956-4137-a127-4021b4e1d3e3",
   "metadata": {},
   "outputs": [],
   "source": [
    "import shutil\n",
    "import os\n",
    "from tqdm import tqdm\n",
    "import time"
   ]
  },
  {
   "cell_type": "code",
   "execution_count": 10,
   "id": "c048f2b9-aec4-49bf-b536-f4be2c3d1395",
   "metadata": {},
   "outputs": [],
   "source": [
    "file_source = 'C://Users/King/Desktop/NIA_BCS/1_원천데이터/BCS_5/'\n",
    "file_destination = 'C://Users/King/Desktop/NIA_BCS/2_라벨데이터/BCS_8/'"
   ]
  },
  {
   "cell_type": "code",
   "execution_count": 11,
   "id": "e26253a8-d992-4794-9f13-b9db08e12e33",
   "metadata": {},
   "outputs": [],
   "source": [
    "get_files = os.listdir(file_source)\n",
    "get_files1 = os.listdir(file_destination)"
   ]
  },
  {
   "cell_type": "code",
   "execution_count": 12,
   "id": "f1635cfa-6eb1-4fb6-91aa-3e3bc1ee022a",
   "metadata": {},
   "outputs": [
    {
     "name": "stdout",
     "output_type": "stream",
     "text": [
      "BCS5 폴더 갯수는 : 246\n",
      "BCS6 폴더 갯수는 : 986\n",
      "BCS7 폴더 갯수는 : 2589\n",
      "BCS8 폴더 갯수는 : 5738\n",
      "BCS9 폴더 갯수는 : 14099\n"
     ]
    }
   ],
   "source": [
    "source = 'C://Users/King/Desktop/NIA_BCS/1_원천데이터/'\n",
    "for i in range(5,10):\n",
    "    get_files = os.listdir(source + 'BCS_' + str(i) +'/')\n",
    "    print(\"BCS\" + str(i) + \" 폴더 갯수는 :\", len(get_files))"
   ]
  },
  {
   "cell_type": "code",
   "execution_count": 13,
   "id": "311c2dfa-b756-4b64-b2c3-70b0b48aff05",
   "metadata": {},
   "outputs": [
    {
     "name": "stdout",
     "output_type": "stream",
     "text": [
      "BCS5 폴더 갯수는 : 246\n",
      "BCS6 폴더 갯수는 : 986\n",
      "BCS7 폴더 갯수는 : 2589\n",
      "BCS8 폴더 갯수는 : 5738\n",
      "BCS9 폴더 갯수는 : 14099\n"
     ]
    }
   ],
   "source": [
    "source = 'C://Users/King/Desktop/NIA_BCS/2_라벨데이터/'\n",
    "for i in range(5,10):\n",
    "    get_files = os.listdir(source + 'BCS_' + str(i) +'/')\n",
    "    print(\"BCS\" + str(i) + \" 폴더 갯수는 :\", len(get_files))"
   ]
  },
  {
   "cell_type": "code",
   "execution_count": 14,
   "id": "e812613a-4906-4332-ae16-88becaf0bbef",
   "metadata": {},
   "outputs": [
    {
     "name": "stdout",
     "output_type": "stream",
     "text": [
      "BCS5폴더의 모든 파일 갯수는 : 11426\n",
      "BCS6폴더의 모든 파일 갯수는 : 45330\n",
      "BCS7폴더의 모든 파일 갯수는 : 120750\n",
      "BCS8폴더의 모든 파일 갯수는 : 296192\n",
      "BCS9폴더의 모든 파일 갯수는 : 776132\n"
     ]
    }
   ],
   "source": [
    "count = 0\n",
    "source = source = 'C://Users/King/Desktop/NIA_BCS/1_원천데이터/'\n",
    "for i in range(5,10):\n",
    "    for currentdir, dirs, files in os.walk(source + 'BCS_' + str(i) +'/'):\n",
    "\n",
    "        for file in files :\n",
    "            count += 1\n",
    "    print(\"BCS\" + str(i) + \"폴더의 모든 파일 갯수는 :\" , count)\n",
    "    count = 0\n"
   ]
  },
  {
   "cell_type": "code",
   "execution_count": 15,
   "id": "37e838cf-8d68-4f7e-b512-d5b6f39a2193",
   "metadata": {},
   "outputs": [
    {
     "name": "stdout",
     "output_type": "stream",
     "text": [
      "BCS5폴더의 모든 파일 갯수는 : 11426\n",
      "BCS6폴더의 모든 파일 갯수는 : 45330\n",
      "BCS7폴더의 모든 파일 갯수는 : 120750\n",
      "BCS8폴더의 모든 파일 갯수는 : 296193\n",
      "BCS9폴더의 모든 파일 갯수는 : 776133\n"
     ]
    }
   ],
   "source": [
    "count = 0\n",
    "source = source = 'C://Users/King/Desktop/NIA_BCS/2_라벨데이터/'\n",
    "for i in range(5,10):\n",
    "    for currentdir, dirs, files in os.walk(source + 'BCS_' + str(i) +'/'):\n",
    "\n",
    "        for file in files :\n",
    "            count += 1\n",
    "    print(\"BCS\" + str(i) + \"폴더의 모든 파일 갯수는 :\" , count)\n",
    "    count = 0\n"
   ]
  },
  {
   "cell_type": "code",
   "execution_count": 3,
   "id": "6b8a1d9a-a14b-4c17-b1f0-58c4bc72e051",
   "metadata": {},
   "outputs": [],
   "source": [
    "import os"
   ]
  },
  {
   "cell_type": "code",
   "execution_count": 4,
   "id": "f2af90f4-1057-4277-beab-096f5474165a",
   "metadata": {},
   "outputs": [],
   "source": [
    "file_source = 'C://Users/King/Desktop/NIA_BCS/1_원천데이터/BCS_8/'\n",
    "file_destination = 'C://Users/King/Desktop/NIA_BCS/2_라벨데이터/BCS_8/'\n",
    "get_files = os.listdir(file_source)\n",
    "get_files1 = os.listdir(file_destination)"
   ]
  },
  {
   "cell_type": "code",
   "execution_count": 5,
   "id": "433fefd7-4ea9-40ad-ad96-2e68c321a550",
   "metadata": {},
   "outputs": [
    {
     "data": {
      "text/plain": [
       "5738"
      ]
     },
     "execution_count": 5,
     "metadata": {},
     "output_type": "execute_result"
    }
   ],
   "source": [
    "len(get_files)"
   ]
  },
  {
   "cell_type": "code",
   "execution_count": 22,
   "id": "3b500895-a35e-4999-95a9-bdbd48ec2f55",
   "metadata": {},
   "outputs": [
    {
     "data": {
      "text/plain": [
       "296193"
      ]
     },
     "execution_count": 22,
     "metadata": {},
     "output_type": "execute_result"
    }
   ],
   "source": [
    "filelist = []\n",
    "for currentdir, dirs, files in os.walk('C://Users/King/Desktop/NIA_BCS/2_라벨데이터/BCS_8'):\n",
    "    for file in files:\n",
    "        slicing = file[:-5]\n",
    "        filelist.append(slicing)\n",
    "len(filelist)"
   ]
  },
  {
   "cell_type": "code",
   "execution_count": 24,
   "id": "e2835454-27ed-4527-9268-bfeaef0c3612",
   "metadata": {},
   "outputs": [
    {
     "data": {
      "text/plain": [
       "296192"
      ]
     },
     "execution_count": 24,
     "metadata": {},
     "output_type": "execute_result"
    }
   ],
   "source": [
    "filelist1 = []\n",
    "for currentdir, dirs, files in os.walk('C://Users/King/Desktop/NIA_BCS/1_원천데이터/BCS_8'):\n",
    "    for file in files:\n",
    "        slicing1 = file[:-4]\n",
    "        filelist1.append(slicing1)\n",
    "len(filelist1)"
   ]
  },
  {
   "cell_type": "code",
   "execution_count": 29,
   "id": "6759703c-014b-4dc6-a2d9-2b9c30edafd7",
   "metadata": {},
   "outputs": [],
   "source": [
    "set1 = set(filelist)\n",
    "set2 = set(filelist1)"
   ]
  },
  {
   "cell_type": "code",
   "execution_count": 27,
   "id": "e42d9557-ed3d-4237-8883-941e533c4ca5",
   "metadata": {},
   "outputs": [
    {
     "data": {
      "text/plain": [
       "'0515_20200902_434_01_1_2D'"
      ]
     },
     "execution_count": 27,
     "metadata": {},
     "output_type": "execute_result"
    }
   ],
   "source": [
    "filelist[0]"
   ]
  },
  {
   "cell_type": "code",
   "execution_count": 25,
   "id": "58262cfc-0a41-46c8-8fe2-e69f01bcd0c0",
   "metadata": {},
   "outputs": [
    {
     "data": {
      "text/plain": [
       "'0515_20200902_434_01_1_2D'"
      ]
     },
     "execution_count": 25,
     "metadata": {},
     "output_type": "execute_result"
    }
   ],
   "source": [
    "filelist1[0]"
   ]
  },
  {
   "cell_type": "code",
   "execution_count": 30,
   "id": "e0ba0154-cd26-4cb1-a479-ccb47b0e287e",
   "metadata": {},
   "outputs": [
    {
     "data": {
      "text/plain": [
       "{'0516_20211020_20_01_19_2D_GT'}"
      ]
     },
     "execution_count": 30,
     "metadata": {},
     "output_type": "execute_result"
    }
   ],
   "source": [
    "set1.difference(set2)"
   ]
  },
  {
   "cell_type": "code",
   "execution_count": 31,
   "id": "5b3c2d56-b948-4530-bee6-ba533fa471d1",
   "metadata": {},
   "outputs": [
    {
     "data": {
      "text/plain": [
       "776133"
      ]
     },
     "execution_count": 31,
     "metadata": {},
     "output_type": "execute_result"
    }
   ],
   "source": [
    "filelist = []\n",
    "for currentdir, dirs, files in os.walk('C://Users/King/Desktop/NIA_BCS/2_라벨데이터/BCS_9'):\n",
    "    for file in files:\n",
    "        slicing = file[:-5]\n",
    "        filelist.append(slicing)\n",
    "len(filelist)"
   ]
  },
  {
   "cell_type": "code",
   "execution_count": 32,
   "id": "490ba2e3-1b9c-4def-a96d-0b45e73fe027",
   "metadata": {},
   "outputs": [
    {
     "data": {
      "text/plain": [
       "776132"
      ]
     },
     "execution_count": 32,
     "metadata": {},
     "output_type": "execute_result"
    }
   ],
   "source": [
    "filelist1 = []\n",
    "for currentdir, dirs, files in os.walk('C://Users/King/Desktop/NIA_BCS/1_원천데이터/BCS_9'):\n",
    "    for file in files:\n",
    "        slicing1 = file[:-4]\n",
    "        filelist1.append(slicing1)\n",
    "len(filelist1)"
   ]
  },
  {
   "cell_type": "code",
   "execution_count": 33,
   "id": "7df26302-37d1-4f20-be25-d0c16e1ef19d",
   "metadata": {},
   "outputs": [],
   "source": [
    "set1 = set(filelist)\n",
    "set2 = set(filelist1)"
   ]
  },
  {
   "cell_type": "code",
   "execution_count": 34,
   "id": "6a59ba30-f718-42b1-9dcf-450b3328fdf0",
   "metadata": {},
   "outputs": [
    {
     "data": {
      "text/plain": [
       "{'0516_20211116_334_01_15_2D_GT'}"
      ]
     },
     "execution_count": 34,
     "metadata": {},
     "output_type": "execute_result"
    }
   ],
   "source": [
    "set1.difference(set2)"
   ]
  },
  {
   "cell_type": "code",
   "execution_count": 36,
   "id": "9307f6cf-3e08-44bd-afc8-734bdda64f9d",
   "metadata": {},
   "outputs": [],
   "source": [
    "import json"
   ]
  },
  {
   "cell_type": "code",
   "execution_count": 37,
   "id": "b9fda704-6315-4f50-a7fc-951cbe9586bf",
   "metadata": {},
   "outputs": [],
   "source": [
    "with open ('0516_20211020_20_01_19_2D.json', \"r\", encoding=\"utf8\") as f:\n",
    "     contents = f.read() \n",
    "     data = json.loads(contents)"
   ]
  },
  {
   "cell_type": "code",
   "execution_count": 38,
   "id": "8e96059e-d033-4a38-8c6b-cfe5937a1471",
   "metadata": {},
   "outputs": [],
   "source": [
    "with open ('0516_20211020_20_01_19_2D_GT.json', \"r\", encoding=\"utf8\") as f:\n",
    "     contents = f.read() \n",
    "     data1 = json.loads(contents)"
   ]
  },
  {
   "cell_type": "code",
   "execution_count": 42,
   "id": "d58282c4-09b0-4baa-ab54-94d1649e222e",
   "metadata": {},
   "outputs": [
    {
     "data": {
      "text/plain": [
       "{'info': {'name': '0516_20211020_20_01_19_2D',\n",
       "  'description': '',\n",
       "  'url': '',\n",
       "  'data_created': '2021-09-17'},\n",
       " 'images': {'id': '0516_20211020_20_01_19_2D',\n",
       "  'width': 1920,\n",
       "  'height': 1080,\n",
       "  'image_url': '0516\\\\20211020\\\\20\\\\01\\\\19_2D',\n",
       "  'image_idx': 19,\n",
       "  'cam_cd': '01'},\n",
       " 'annotations': {'shapes': [{'label': '후구',\n",
       "    'points': [[622, 236], [684, 692], [816, 682], [1052, 590], [1002, 334]],\n",
       "    'ratio': 6.66}],\n",
       "  'bcs': 8},\n",
       " 'metas': {'breeding_month': 38, 'sex': '3', 'weight': None, 'kind': '1'}}"
      ]
     },
     "execution_count": 42,
     "metadata": {},
     "output_type": "execute_result"
    }
   ],
   "source": [
    "data"
   ]
  },
  {
   "cell_type": "code",
   "execution_count": 43,
   "id": "2d5666c5-1dc3-4102-b02f-cb8bb85db6bf",
   "metadata": {},
   "outputs": [
    {
     "data": {
      "text/plain": [
       "{'info': {'name': '0516_20211020_20_01_19_2D',\n",
       "  'description': '',\n",
       "  'url': '',\n",
       "  'data_created': '2021-09-17'},\n",
       " 'images': {'id': '0516_20211020_20_01_19_2D',\n",
       "  'width': 1920,\n",
       "  'height': 1080,\n",
       "  'image_url': '0516\\\\20211020\\\\20\\\\01\\\\19_2D',\n",
       "  'image_idx': 19,\n",
       "  'cam_cd': '01'},\n",
       " 'annotations': {'shapes': [{'label': '후구',\n",
       "    'points': [[622, 236], [684, 692], [816, 682], [1052, 590], [1002, 334]],\n",
       "    'gt': [[719, 242],\n",
       "     [804, 267],\n",
       "     [877, 286],\n",
       "     [954, 311],\n",
       "     [1003, 329],\n",
       "     [1059, 370],\n",
       "     [1093, 412],\n",
       "     [1104, 492],\n",
       "     [1052, 594],\n",
       "     [985, 638],\n",
       "     [913, 670],\n",
       "     [837, 694],\n",
       "     [754, 711],\n",
       "     [719, 712]],\n",
       "    'ratio': 6.66}],\n",
       "  'bcs': 8},\n",
       " 'metas': {'breeding_month': 38, 'sex': '3', 'weight': None, 'kind': '1'}}"
      ]
     },
     "execution_count": 43,
     "metadata": {},
     "output_type": "execute_result"
    }
   ],
   "source": [
    "data1"
   ]
  },
  {
   "cell_type": "code",
   "execution_count": null,
   "id": "0b1e0237-8a73-47e8-873a-fc875d412c9a",
   "metadata": {},
   "outputs": [],
   "source": []
  }
 ],
 "metadata": {
  "kernelspec": {
   "display_name": "Python 3 (ipykernel)",
   "language": "python",
   "name": "python3"
  },
  "language_info": {
   "codemirror_mode": {
    "name": "ipython",
    "version": 3
   },
   "file_extension": ".py",
   "mimetype": "text/x-python",
   "name": "python",
   "nbconvert_exporter": "python",
   "pygments_lexer": "ipython3",
   "version": "3.8.12"
  }
 },
 "nbformat": 4,
 "nbformat_minor": 5
}
